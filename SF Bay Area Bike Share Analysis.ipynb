{
 "cells": [
  {
   "cell_type": "markdown",
   "metadata": {},
   "source": [
    "Developed By : Gaurav Shivhare\n",
    "\n",
    "Date : 21, Feb 2019\n",
    "\n",
    "Description : Performing detailed analysis on SF Bay Area Bike Share Data\n",
    "\n",
    "Data Source : https://www.kaggle.com/benhamner/sf-bay-area-bike-share\n",
    "\n",
    "Programming Language : Python 3\n",
    "\n",
    "Tools : Jupyter, Tableau"
   ]
  },
  {
   "cell_type": "markdown",
   "metadata": {},
   "source": [
    "### Import Libraries"
   ]
  },
  {
   "cell_type": "code",
   "execution_count": 1,
   "metadata": {},
   "outputs": [
    {
     "name": "stdout",
     "output_type": "stream",
     "text": [
      "Requirement already satisfied: plotly in /Users/gauravshivhare/anaconda3/lib/python3.7/site-packages (4.5.1)\n",
      "Requirement already satisfied: retrying>=1.3.3 in /Users/gauravshivhare/anaconda3/lib/python3.7/site-packages (from plotly) (1.3.3)\n",
      "Requirement already satisfied: six in /Users/gauravshivhare/anaconda3/lib/python3.7/site-packages (from plotly) (1.12.0)\n"
     ]
    }
   ],
   "source": [
    "!pip install plotly"
   ]
  },
  {
   "cell_type": "code",
   "execution_count": 2,
   "metadata": {},
   "outputs": [
    {
     "data": {
      "text/html": [
       "        <script type=\"text/javascript\">\n",
       "        window.PlotlyConfig = {MathJaxConfig: 'local'};\n",
       "        if (window.MathJax) {MathJax.Hub.Config({SVG: {font: \"STIX-Web\"}});}\n",
       "        if (typeof require !== 'undefined') {\n",
       "        require.undef(\"plotly\");\n",
       "        requirejs.config({\n",
       "            paths: {\n",
       "                'plotly': ['https://cdn.plot.ly/plotly-latest.min']\n",
       "            }\n",
       "        });\n",
       "        require(['plotly'], function(Plotly) {\n",
       "            window._Plotly = Plotly;\n",
       "        });\n",
       "        }\n",
       "        </script>\n",
       "        "
      ]
     },
     "metadata": {},
     "output_type": "display_data"
    }
   ],
   "source": [
    "import os\n",
    "import pandas as pd\n",
    "import numpy as np\n",
    "import datetime\n",
    "import plotly as py \n",
    "import seaborn as sns\n",
    "import matplotlib.pyplot as plt\n",
    "import plotly.graph_objs as go\n",
    "import ipywidgets as widget\n",
    "py.offline.init_notebook_mode(connected = True)\n",
    "from sklearn.model_selection import train_test_split\n",
    "from sklearn.model_selection import cross_val_score\n",
    "from sklearn.ensemble import RandomForestRegressor\n",
    "from sklearn.model_selection import RepeatedKFold \n",
    "import array\n",
    "import statistics as st\n",
    "#py.tools.set_credentials_file(username='gauravshivhare', api_key='wMOP1j6DnGBDPNsNkg8K')"
   ]
  },
  {
   "cell_type": "markdown",
   "metadata": {},
   "source": [
    "## Business Requirements"
   ]
  },
  {
   "cell_type": "markdown",
   "metadata": {},
   "source": [
    "\n",
    "Provide the optimized Placement/Reallocation schedule to *Bike Operator*.\n",
    " \n"
   ]
  },
  {
   "cell_type": "markdown",
   "metadata": {},
   "source": [
    "## Understanding the Data Provided"
   ]
  },
  {
   "cell_type": "markdown",
   "metadata": {},
   "source": [
    "1. Station.csv - The list of the Stations with id and geographical location\n",
    "2. Status.csv - Available Docks and Bikes by Date and Time\n",
    "3. Trip.csv - Ride details of the users trip\n",
    "4. Weather.csv - Information about the Weather by Date\n",
    "\n",
    "Lets Import the Data "
   ]
  },
  {
   "cell_type": "code",
   "execution_count": 3,
   "metadata": {},
   "outputs": [
    {
     "name": "stdout",
     "output_type": "stream",
     "text": [
      "Station File :  0.005425453186035156 MB\n",
      "Status File :  1897.5223379135132 MB\n",
      "Trip File :  76.49311828613281 MB\n",
      "Weather File :  0.4177694320678711 MB\n"
     ]
    }
   ],
   "source": [
    "## Check Size for import time estimation or need for chunks\n",
    "print('Station File : ',os.path.getsize(\"station.csv\")/(1024 * 1024), 'MB')\n",
    "print('Status File : ',os.path.getsize(\"status.csv\")/(1024 * 1024), 'MB')\n",
    "print('Trip File : ',os.path.getsize(\"trip.csv\")/(1024 * 1024), 'MB')\n",
    "print('Weather File : ',os.path.getsize(\"weather.csv\")/(1024 * 1024), 'MB')\n"
   ]
  },
  {
   "cell_type": "markdown",
   "metadata": {},
   "source": [
    "Comment : Status File will take time for import"
   ]
  },
  {
   "cell_type": "code",
   "execution_count": 4,
   "metadata": {},
   "outputs": [],
   "source": [
    "missingvalues = []\n",
    "station = pd.read_csv('station.csv',na_values = missingvalues)\n",
    "status = pd.read_csv('status.csv',na_values = missingvalues)\n",
    "trip = pd.read_csv('trip.csv',na_values = missingvalues)\n",
    "weather = pd.read_csv('weather.csv',na_values = missingvalues)"
   ]
  },
  {
   "cell_type": "markdown",
   "metadata": {},
   "source": [
    "Coloumns and type of data"
   ]
  },
  {
   "cell_type": "code",
   "execution_count": 5,
   "metadata": {},
   "outputs": [
    {
     "name": "stdout",
     "output_type": "stream",
     "text": [
      "id                   0\n",
      "name                 0\n",
      "lat                  0\n",
      "long                 0\n",
      "dock_count           0\n",
      "city                 0\n",
      "installation_date    0\n",
      "Zip Code             0\n",
      "dtype: int64\n"
     ]
    },
    {
     "data": {
      "text/html": [
       "<div>\n",
       "<style scoped>\n",
       "    .dataframe tbody tr th:only-of-type {\n",
       "        vertical-align: middle;\n",
       "    }\n",
       "\n",
       "    .dataframe tbody tr th {\n",
       "        vertical-align: top;\n",
       "    }\n",
       "\n",
       "    .dataframe thead th {\n",
       "        text-align: right;\n",
       "    }\n",
       "</style>\n",
       "<table border=\"1\" class=\"dataframe\">\n",
       "  <thead>\n",
       "    <tr style=\"text-align: right;\">\n",
       "      <th></th>\n",
       "      <th>id</th>\n",
       "      <th>name</th>\n",
       "      <th>lat</th>\n",
       "      <th>long</th>\n",
       "      <th>dock_count</th>\n",
       "      <th>city</th>\n",
       "      <th>installation_date</th>\n",
       "      <th>Zip Code</th>\n",
       "    </tr>\n",
       "  </thead>\n",
       "  <tbody>\n",
       "    <tr>\n",
       "      <th>0</th>\n",
       "      <td>2</td>\n",
       "      <td>San Jose Diridon Caltrain Station</td>\n",
       "      <td>37.329732</td>\n",
       "      <td>-121.901782</td>\n",
       "      <td>27</td>\n",
       "      <td>San Jose</td>\n",
       "      <td>08/06/13</td>\n",
       "      <td>95113</td>\n",
       "    </tr>\n",
       "    <tr>\n",
       "      <th>1</th>\n",
       "      <td>3</td>\n",
       "      <td>San Jose Civic Center</td>\n",
       "      <td>37.330698</td>\n",
       "      <td>-121.888979</td>\n",
       "      <td>15</td>\n",
       "      <td>San Jose</td>\n",
       "      <td>08/05/13</td>\n",
       "      <td>95113</td>\n",
       "    </tr>\n",
       "    <tr>\n",
       "      <th>2</th>\n",
       "      <td>4</td>\n",
       "      <td>Santa Clara at Almaden</td>\n",
       "      <td>37.333988</td>\n",
       "      <td>-121.894902</td>\n",
       "      <td>11</td>\n",
       "      <td>San Jose</td>\n",
       "      <td>08/06/13</td>\n",
       "      <td>95113</td>\n",
       "    </tr>\n",
       "    <tr>\n",
       "      <th>3</th>\n",
       "      <td>5</td>\n",
       "      <td>Adobe on Almaden</td>\n",
       "      <td>37.331415</td>\n",
       "      <td>-121.893200</td>\n",
       "      <td>19</td>\n",
       "      <td>San Jose</td>\n",
       "      <td>08/05/13</td>\n",
       "      <td>95113</td>\n",
       "    </tr>\n",
       "    <tr>\n",
       "      <th>4</th>\n",
       "      <td>6</td>\n",
       "      <td>San Pedro Square</td>\n",
       "      <td>37.336721</td>\n",
       "      <td>-121.894074</td>\n",
       "      <td>15</td>\n",
       "      <td>San Jose</td>\n",
       "      <td>08/07/13</td>\n",
       "      <td>95113</td>\n",
       "    </tr>\n",
       "  </tbody>\n",
       "</table>\n",
       "</div>"
      ],
      "text/plain": [
       "   id                               name        lat        long  dock_count  \\\n",
       "0   2  San Jose Diridon Caltrain Station  37.329732 -121.901782          27   \n",
       "1   3              San Jose Civic Center  37.330698 -121.888979          15   \n",
       "2   4             Santa Clara at Almaden  37.333988 -121.894902          11   \n",
       "3   5                   Adobe on Almaden  37.331415 -121.893200          19   \n",
       "4   6                   San Pedro Square  37.336721 -121.894074          15   \n",
       "\n",
       "       city installation_date  Zip Code  \n",
       "0  San Jose          08/06/13     95113  \n",
       "1  San Jose          08/05/13     95113  \n",
       "2  San Jose          08/06/13     95113  \n",
       "3  San Jose          08/05/13     95113  \n",
       "4  San Jose          08/07/13     95113  "
      ]
     },
     "execution_count": 5,
     "metadata": {},
     "output_type": "execute_result"
    }
   ],
   "source": [
    "##Missing Values\n",
    "print(station.isna().sum())\n",
    "station.head()"
   ]
  },
  {
   "cell_type": "code",
   "execution_count": 6,
   "metadata": {},
   "outputs": [
    {
     "name": "stdout",
     "output_type": "stream",
     "text": [
      "station_id         0\n",
      "bikes_available    0\n",
      "docks_available    0\n",
      "time               0\n",
      "dtype: int64\n"
     ]
    },
    {
     "data": {
      "text/html": [
       "<div>\n",
       "<style scoped>\n",
       "    .dataframe tbody tr th:only-of-type {\n",
       "        vertical-align: middle;\n",
       "    }\n",
       "\n",
       "    .dataframe tbody tr th {\n",
       "        vertical-align: top;\n",
       "    }\n",
       "\n",
       "    .dataframe thead th {\n",
       "        text-align: right;\n",
       "    }\n",
       "</style>\n",
       "<table border=\"1\" class=\"dataframe\">\n",
       "  <thead>\n",
       "    <tr style=\"text-align: right;\">\n",
       "      <th></th>\n",
       "      <th>station_id</th>\n",
       "      <th>bikes_available</th>\n",
       "      <th>docks_available</th>\n",
       "      <th>time</th>\n",
       "    </tr>\n",
       "  </thead>\n",
       "  <tbody>\n",
       "    <tr>\n",
       "      <th>0</th>\n",
       "      <td>2</td>\n",
       "      <td>2</td>\n",
       "      <td>25</td>\n",
       "      <td>2013/08/29 12:06:01</td>\n",
       "    </tr>\n",
       "    <tr>\n",
       "      <th>1</th>\n",
       "      <td>2</td>\n",
       "      <td>2</td>\n",
       "      <td>25</td>\n",
       "      <td>2013/08/29 12:07:01</td>\n",
       "    </tr>\n",
       "    <tr>\n",
       "      <th>2</th>\n",
       "      <td>2</td>\n",
       "      <td>2</td>\n",
       "      <td>25</td>\n",
       "      <td>2013/08/29 12:08:01</td>\n",
       "    </tr>\n",
       "    <tr>\n",
       "      <th>3</th>\n",
       "      <td>2</td>\n",
       "      <td>2</td>\n",
       "      <td>25</td>\n",
       "      <td>2013/08/29 12:09:01</td>\n",
       "    </tr>\n",
       "    <tr>\n",
       "      <th>4</th>\n",
       "      <td>2</td>\n",
       "      <td>2</td>\n",
       "      <td>25</td>\n",
       "      <td>2013/08/29 12:10:01</td>\n",
       "    </tr>\n",
       "  </tbody>\n",
       "</table>\n",
       "</div>"
      ],
      "text/plain": [
       "   station_id  bikes_available  docks_available                 time\n",
       "0           2                2               25  2013/08/29 12:06:01\n",
       "1           2                2               25  2013/08/29 12:07:01\n",
       "2           2                2               25  2013/08/29 12:08:01\n",
       "3           2                2               25  2013/08/29 12:09:01\n",
       "4           2                2               25  2013/08/29 12:10:01"
      ]
     },
     "execution_count": 6,
     "metadata": {},
     "output_type": "execute_result"
    }
   ],
   "source": [
    "##Missing Values\n",
    "print(status.isna().sum())\n",
    "status.head()"
   ]
  },
  {
   "cell_type": "code",
   "execution_count": 7,
   "metadata": {},
   "outputs": [
    {
     "name": "stdout",
     "output_type": "stream",
     "text": [
      "id                       0\n",
      "duration                 0\n",
      "start_date               0\n",
      "start_station_name       0\n",
      "start_station_id         0\n",
      "end_date                 0\n",
      "end_station_name         0\n",
      "end_station_id           0\n",
      "bike_id                  0\n",
      "subscription_type        0\n",
      "zip_code              6619\n",
      "dtype: int64\n"
     ]
    },
    {
     "data": {
      "text/html": [
       "<div>\n",
       "<style scoped>\n",
       "    .dataframe tbody tr th:only-of-type {\n",
       "        vertical-align: middle;\n",
       "    }\n",
       "\n",
       "    .dataframe tbody tr th {\n",
       "        vertical-align: top;\n",
       "    }\n",
       "\n",
       "    .dataframe thead th {\n",
       "        text-align: right;\n",
       "    }\n",
       "</style>\n",
       "<table border=\"1\" class=\"dataframe\">\n",
       "  <thead>\n",
       "    <tr style=\"text-align: right;\">\n",
       "      <th></th>\n",
       "      <th>id</th>\n",
       "      <th>duration</th>\n",
       "      <th>start_date</th>\n",
       "      <th>start_station_name</th>\n",
       "      <th>start_station_id</th>\n",
       "      <th>end_date</th>\n",
       "      <th>end_station_name</th>\n",
       "      <th>end_station_id</th>\n",
       "      <th>bike_id</th>\n",
       "      <th>subscription_type</th>\n",
       "      <th>zip_code</th>\n",
       "    </tr>\n",
       "  </thead>\n",
       "  <tbody>\n",
       "    <tr>\n",
       "      <th>0</th>\n",
       "      <td>4576</td>\n",
       "      <td>63</td>\n",
       "      <td>8/29/2013 14:13</td>\n",
       "      <td>South Van Ness at Market</td>\n",
       "      <td>66</td>\n",
       "      <td>8/29/2013 14:14</td>\n",
       "      <td>South Van Ness at Market</td>\n",
       "      <td>66</td>\n",
       "      <td>520</td>\n",
       "      <td>Subscriber</td>\n",
       "      <td>94127</td>\n",
       "    </tr>\n",
       "    <tr>\n",
       "      <th>1</th>\n",
       "      <td>4607</td>\n",
       "      <td>70</td>\n",
       "      <td>8/29/2013 14:42</td>\n",
       "      <td>San Jose City Hall</td>\n",
       "      <td>10</td>\n",
       "      <td>8/29/2013 14:43</td>\n",
       "      <td>San Jose City Hall</td>\n",
       "      <td>10</td>\n",
       "      <td>661</td>\n",
       "      <td>Subscriber</td>\n",
       "      <td>95138</td>\n",
       "    </tr>\n",
       "    <tr>\n",
       "      <th>2</th>\n",
       "      <td>4130</td>\n",
       "      <td>71</td>\n",
       "      <td>8/29/2013 10:16</td>\n",
       "      <td>Mountain View City Hall</td>\n",
       "      <td>27</td>\n",
       "      <td>8/29/2013 10:17</td>\n",
       "      <td>Mountain View City Hall</td>\n",
       "      <td>27</td>\n",
       "      <td>48</td>\n",
       "      <td>Subscriber</td>\n",
       "      <td>97214</td>\n",
       "    </tr>\n",
       "    <tr>\n",
       "      <th>3</th>\n",
       "      <td>4251</td>\n",
       "      <td>77</td>\n",
       "      <td>8/29/2013 11:29</td>\n",
       "      <td>San Jose City Hall</td>\n",
       "      <td>10</td>\n",
       "      <td>8/29/2013 11:30</td>\n",
       "      <td>San Jose City Hall</td>\n",
       "      <td>10</td>\n",
       "      <td>26</td>\n",
       "      <td>Subscriber</td>\n",
       "      <td>95060</td>\n",
       "    </tr>\n",
       "    <tr>\n",
       "      <th>4</th>\n",
       "      <td>4299</td>\n",
       "      <td>83</td>\n",
       "      <td>8/29/2013 12:02</td>\n",
       "      <td>South Van Ness at Market</td>\n",
       "      <td>66</td>\n",
       "      <td>8/29/2013 12:04</td>\n",
       "      <td>Market at 10th</td>\n",
       "      <td>67</td>\n",
       "      <td>319</td>\n",
       "      <td>Subscriber</td>\n",
       "      <td>94103</td>\n",
       "    </tr>\n",
       "  </tbody>\n",
       "</table>\n",
       "</div>"
      ],
      "text/plain": [
       "     id  duration       start_date        start_station_name  \\\n",
       "0  4576        63  8/29/2013 14:13  South Van Ness at Market   \n",
       "1  4607        70  8/29/2013 14:42        San Jose City Hall   \n",
       "2  4130        71  8/29/2013 10:16   Mountain View City Hall   \n",
       "3  4251        77  8/29/2013 11:29        San Jose City Hall   \n",
       "4  4299        83  8/29/2013 12:02  South Van Ness at Market   \n",
       "\n",
       "   start_station_id         end_date          end_station_name  \\\n",
       "0                66  8/29/2013 14:14  South Van Ness at Market   \n",
       "1                10  8/29/2013 14:43        San Jose City Hall   \n",
       "2                27  8/29/2013 10:17   Mountain View City Hall   \n",
       "3                10  8/29/2013 11:30        San Jose City Hall   \n",
       "4                66  8/29/2013 12:04            Market at 10th   \n",
       "\n",
       "   end_station_id  bike_id subscription_type zip_code  \n",
       "0              66      520        Subscriber    94127  \n",
       "1              10      661        Subscriber    95138  \n",
       "2              27       48        Subscriber    97214  \n",
       "3              10       26        Subscriber    95060  \n",
       "4              67      319        Subscriber    94103  "
      ]
     },
     "execution_count": 7,
     "metadata": {},
     "output_type": "execute_result"
    }
   ],
   "source": [
    "##Missing Values\n",
    "print(trip.isna().sum())\n",
    "trip.head()"
   ]
  },
  {
   "cell_type": "code",
   "execution_count": 8,
   "metadata": {},
   "outputs": [
    {
     "name": "stdout",
     "output_type": "stream",
     "text": [
      "date                                 0\n",
      "max_temperature_f                    4\n",
      "mean_temperature_f                   4\n",
      "min_temperature_f                    4\n",
      "max_dew_point_f                     54\n",
      "mean_dew_point_f                    54\n",
      "min_dew_point_f                     54\n",
      "max_humidity                        54\n",
      "mean_humidity                       54\n",
      "min_humidity                        54\n",
      "max_sea_level_pressure_inches        1\n",
      "mean_sea_level_pressure_inches       1\n",
      "min_sea_level_pressure_inches        1\n",
      "max_visibility_miles                13\n",
      "mean_visibility_miles               13\n",
      "min_visibility_miles                13\n",
      "max_wind_Speed_mph                   1\n",
      "mean_wind_speed_mph                  1\n",
      "max_gust_speed_mph                 899\n",
      "precipitation_inches                 1\n",
      "cloud_cover                          1\n",
      "events                            3143\n",
      "wind_dir_degrees                     1\n",
      "zip_code                             0\n",
      "dtype: int64\n"
     ]
    },
    {
     "data": {
      "text/html": [
       "<div>\n",
       "<style scoped>\n",
       "    .dataframe tbody tr th:only-of-type {\n",
       "        vertical-align: middle;\n",
       "    }\n",
       "\n",
       "    .dataframe tbody tr th {\n",
       "        vertical-align: top;\n",
       "    }\n",
       "\n",
       "    .dataframe thead th {\n",
       "        text-align: right;\n",
       "    }\n",
       "</style>\n",
       "<table border=\"1\" class=\"dataframe\">\n",
       "  <thead>\n",
       "    <tr style=\"text-align: right;\">\n",
       "      <th></th>\n",
       "      <th>date</th>\n",
       "      <th>max_temperature_f</th>\n",
       "      <th>mean_temperature_f</th>\n",
       "      <th>min_temperature_f</th>\n",
       "      <th>max_dew_point_f</th>\n",
       "      <th>mean_dew_point_f</th>\n",
       "      <th>min_dew_point_f</th>\n",
       "      <th>max_humidity</th>\n",
       "      <th>mean_humidity</th>\n",
       "      <th>min_humidity</th>\n",
       "      <th>...</th>\n",
       "      <th>mean_visibility_miles</th>\n",
       "      <th>min_visibility_miles</th>\n",
       "      <th>max_wind_Speed_mph</th>\n",
       "      <th>mean_wind_speed_mph</th>\n",
       "      <th>max_gust_speed_mph</th>\n",
       "      <th>precipitation_inches</th>\n",
       "      <th>cloud_cover</th>\n",
       "      <th>events</th>\n",
       "      <th>wind_dir_degrees</th>\n",
       "      <th>zip_code</th>\n",
       "    </tr>\n",
       "  </thead>\n",
       "  <tbody>\n",
       "    <tr>\n",
       "      <th>0</th>\n",
       "      <td>8/29/2013</td>\n",
       "      <td>74.0</td>\n",
       "      <td>68.0</td>\n",
       "      <td>61.0</td>\n",
       "      <td>61.0</td>\n",
       "      <td>58.0</td>\n",
       "      <td>56.0</td>\n",
       "      <td>93.0</td>\n",
       "      <td>75.0</td>\n",
       "      <td>57.0</td>\n",
       "      <td>...</td>\n",
       "      <td>10.0</td>\n",
       "      <td>10.0</td>\n",
       "      <td>23.0</td>\n",
       "      <td>11.0</td>\n",
       "      <td>28.0</td>\n",
       "      <td>0</td>\n",
       "      <td>4.0</td>\n",
       "      <td>NaN</td>\n",
       "      <td>286.0</td>\n",
       "      <td>94107</td>\n",
       "    </tr>\n",
       "    <tr>\n",
       "      <th>1</th>\n",
       "      <td>8/30/2013</td>\n",
       "      <td>78.0</td>\n",
       "      <td>69.0</td>\n",
       "      <td>60.0</td>\n",
       "      <td>61.0</td>\n",
       "      <td>58.0</td>\n",
       "      <td>56.0</td>\n",
       "      <td>90.0</td>\n",
       "      <td>70.0</td>\n",
       "      <td>50.0</td>\n",
       "      <td>...</td>\n",
       "      <td>10.0</td>\n",
       "      <td>7.0</td>\n",
       "      <td>29.0</td>\n",
       "      <td>13.0</td>\n",
       "      <td>35.0</td>\n",
       "      <td>0</td>\n",
       "      <td>2.0</td>\n",
       "      <td>NaN</td>\n",
       "      <td>291.0</td>\n",
       "      <td>94107</td>\n",
       "    </tr>\n",
       "    <tr>\n",
       "      <th>2</th>\n",
       "      <td>8/31/2013</td>\n",
       "      <td>71.0</td>\n",
       "      <td>64.0</td>\n",
       "      <td>57.0</td>\n",
       "      <td>57.0</td>\n",
       "      <td>56.0</td>\n",
       "      <td>54.0</td>\n",
       "      <td>93.0</td>\n",
       "      <td>75.0</td>\n",
       "      <td>57.0</td>\n",
       "      <td>...</td>\n",
       "      <td>10.0</td>\n",
       "      <td>10.0</td>\n",
       "      <td>26.0</td>\n",
       "      <td>15.0</td>\n",
       "      <td>31.0</td>\n",
       "      <td>0</td>\n",
       "      <td>4.0</td>\n",
       "      <td>NaN</td>\n",
       "      <td>284.0</td>\n",
       "      <td>94107</td>\n",
       "    </tr>\n",
       "    <tr>\n",
       "      <th>3</th>\n",
       "      <td>9/1/2013</td>\n",
       "      <td>74.0</td>\n",
       "      <td>66.0</td>\n",
       "      <td>58.0</td>\n",
       "      <td>60.0</td>\n",
       "      <td>56.0</td>\n",
       "      <td>53.0</td>\n",
       "      <td>87.0</td>\n",
       "      <td>68.0</td>\n",
       "      <td>49.0</td>\n",
       "      <td>...</td>\n",
       "      <td>10.0</td>\n",
       "      <td>10.0</td>\n",
       "      <td>25.0</td>\n",
       "      <td>13.0</td>\n",
       "      <td>29.0</td>\n",
       "      <td>0</td>\n",
       "      <td>4.0</td>\n",
       "      <td>NaN</td>\n",
       "      <td>284.0</td>\n",
       "      <td>94107</td>\n",
       "    </tr>\n",
       "    <tr>\n",
       "      <th>4</th>\n",
       "      <td>9/2/2013</td>\n",
       "      <td>75.0</td>\n",
       "      <td>69.0</td>\n",
       "      <td>62.0</td>\n",
       "      <td>61.0</td>\n",
       "      <td>60.0</td>\n",
       "      <td>58.0</td>\n",
       "      <td>93.0</td>\n",
       "      <td>77.0</td>\n",
       "      <td>61.0</td>\n",
       "      <td>...</td>\n",
       "      <td>10.0</td>\n",
       "      <td>6.0</td>\n",
       "      <td>23.0</td>\n",
       "      <td>12.0</td>\n",
       "      <td>30.0</td>\n",
       "      <td>0</td>\n",
       "      <td>6.0</td>\n",
       "      <td>NaN</td>\n",
       "      <td>277.0</td>\n",
       "      <td>94107</td>\n",
       "    </tr>\n",
       "  </tbody>\n",
       "</table>\n",
       "<p>5 rows × 24 columns</p>\n",
       "</div>"
      ],
      "text/plain": [
       "        date  max_temperature_f  mean_temperature_f  min_temperature_f  \\\n",
       "0  8/29/2013               74.0                68.0               61.0   \n",
       "1  8/30/2013               78.0                69.0               60.0   \n",
       "2  8/31/2013               71.0                64.0               57.0   \n",
       "3   9/1/2013               74.0                66.0               58.0   \n",
       "4   9/2/2013               75.0                69.0               62.0   \n",
       "\n",
       "   max_dew_point_f  mean_dew_point_f  min_dew_point_f  max_humidity  \\\n",
       "0             61.0              58.0             56.0          93.0   \n",
       "1             61.0              58.0             56.0          90.0   \n",
       "2             57.0              56.0             54.0          93.0   \n",
       "3             60.0              56.0             53.0          87.0   \n",
       "4             61.0              60.0             58.0          93.0   \n",
       "\n",
       "   mean_humidity  min_humidity  ...  mean_visibility_miles  \\\n",
       "0           75.0          57.0  ...                   10.0   \n",
       "1           70.0          50.0  ...                   10.0   \n",
       "2           75.0          57.0  ...                   10.0   \n",
       "3           68.0          49.0  ...                   10.0   \n",
       "4           77.0          61.0  ...                   10.0   \n",
       "\n",
       "   min_visibility_miles  max_wind_Speed_mph  mean_wind_speed_mph  \\\n",
       "0                  10.0                23.0                 11.0   \n",
       "1                   7.0                29.0                 13.0   \n",
       "2                  10.0                26.0                 15.0   \n",
       "3                  10.0                25.0                 13.0   \n",
       "4                   6.0                23.0                 12.0   \n",
       "\n",
       "   max_gust_speed_mph  precipitation_inches  cloud_cover  events  \\\n",
       "0                28.0                     0          4.0     NaN   \n",
       "1                35.0                     0          2.0     NaN   \n",
       "2                31.0                     0          4.0     NaN   \n",
       "3                29.0                     0          4.0     NaN   \n",
       "4                30.0                     0          6.0     NaN   \n",
       "\n",
       "   wind_dir_degrees zip_code  \n",
       "0             286.0    94107  \n",
       "1             291.0    94107  \n",
       "2             284.0    94107  \n",
       "3             284.0    94107  \n",
       "4             277.0    94107  \n",
       "\n",
       "[5 rows x 24 columns]"
      ]
     },
     "execution_count": 8,
     "metadata": {},
     "output_type": "execute_result"
    }
   ],
   "source": [
    "##Missing Values\n",
    "print(weather.isna().sum())\n",
    "weather.head()"
   ]
  },
  {
   "cell_type": "markdown",
   "metadata": {},
   "source": [
    "### Tableau Link for Deep Data Diving\n",
    "https://public.tableau.com/profile/gaurav.shivhare#!/vizhome/SFBayAreaDU/BayAreaBikeSharingAnalysis\n",
    "\n",
    "Please click on above and use presentation mode for clear view\n",
    "Sheet 1 : Understanding Stations\n",
    "Sheet 2 : Understanding Trips\n",
    "Sheet 3 : Weather Overview\n",
    "\n",
    "Inferences: \n",
    "1. Maximum Docks are available in San Francisco.\n",
    "2. Cities are quite away from each other, intercity analysis is not useful hence only San Francisco is used.\n",
    "3. Totals Docks available in San Fracisco are 665 while bikes are 435 hence ratio between these is 435/665 =   0.65, which means 65% of all docks have bike and 35% are free.\n",
    "4. We have trip data from Aug 2013 to Aug 2015 i.e. 2 years.\n",
    "5. Minimum trip time is 60 Seconds while Maximum reaches upto more than a year which clearly shows there are outliers which are needed to be eliminated\n",
    "6. We have multiple constraints for Weather(like humidity, visibility and temp.) daily stats for all time frame.\n",
    "Note :  Status file is ignored due to big size and it is clearly visible it have availability data which is very important can be used for real time bike shifting."
   ]
  },
  {
   "cell_type": "markdown",
   "metadata": {},
   "source": [
    "## Approach\n"
   ]
  },
  {
   "cell_type": "markdown",
   "metadata": {},
   "source": [
    "Can be two\n",
    "1. Technical --- Based on Predicting the number of bikes required on real time basis.\n",
    "2. Business  --- Based on Compromised Business (Practical)\n",
    "\n",
    "Note: Reallocation highly depends on the frequency of truck operator can afford and capacity of the vehicle used.\n",
    "\n",
    "\n",
    "Approach\n",
    "1. 7 AM - 9 AM are generally peak hours for enrouting toward the business areas while 4 PM - 6PM towards the residential area.\n",
    "So Technically we can identify the busy stations during these peak times, so it can be said the stations have starting point in morning hours are residential or connected (Station, Intercity Bus Stop) areas, and similarly the starting points in evening hours are business areas.\n",
    "Hence, these stations can be provided with the efficient number of bikes from the non-busy stations at difference windows by the operators.\n",
    "Identifying these areas will help in reallocation of the bikes for weekdays.\n",
    "\n",
    "2. On Weekends identify the busy stations and hour for bike allocation.\n",
    "\n",
    "3. Identify, how weather condition change the usage pattern, can be used to increase/decrease number of bikes accordingly.\n",
    "\n",
    "4. Ride distances and travels can be used to identify the scope of a new station. \n",
    "\n",
    "5. Create a model to regress the number of bikes needed at a station at a time by using all constraints."
   ]
  },
  {
   "cell_type": "markdown",
   "metadata": {},
   "source": [
    "## Data Preparation\n"
   ]
  },
  {
   "cell_type": "markdown",
   "metadata": {},
   "source": [
    "### Missing values"
   ]
  },
  {
   "cell_type": "code",
   "execution_count": 9,
   "metadata": {},
   "outputs": [
    {
     "name": "stdout",
     "output_type": "stream",
     "text": [
      "[nan 'Fog' 'Rain' 'Fog-Rain' 'rain' 'Rain-Thunderstorm']\n"
     ]
    },
    {
     "data": {
      "text/plain": [
       "date                               0\n",
       "max_temperature_f                  4\n",
       "mean_temperature_f                 4\n",
       "min_temperature_f                  4\n",
       "max_dew_point_f                   54\n",
       "mean_dew_point_f                  54\n",
       "min_dew_point_f                   54\n",
       "max_humidity                      54\n",
       "mean_humidity                     54\n",
       "min_humidity                      54\n",
       "max_sea_level_pressure_inches      1\n",
       "mean_sea_level_pressure_inches     1\n",
       "min_sea_level_pressure_inches      1\n",
       "max_visibility_miles              13\n",
       "mean_visibility_miles             13\n",
       "min_visibility_miles              13\n",
       "max_wind_Speed_mph                 1\n",
       "mean_wind_speed_mph                1\n",
       "cloud_cover                        1\n",
       "events                             0\n",
       "wind_dir_degrees                   1\n",
       "zip_code                           0\n",
       "dtype: int64"
      ]
     },
     "execution_count": 9,
     "metadata": {},
     "output_type": "execute_result"
    }
   ],
   "source": [
    "\n",
    "# Issue 1 : Trip File have 6619 missing value in Zip Code\n",
    "# Solution :  Zip Code is not very strong constraint as file start and end station id, hence can be discarded\n",
    "\n",
    "# Issue 2 : Weather file have missing values\n",
    "# Solution : Needed to be reviewed for Weather and can be filled using any approach\n",
    "\n",
    "print(weather.events.unique())\n",
    "weather.loc[weather.events == 'rain', 'events'] = \"Rain\"\n",
    "weather.loc[weather.events.isnull(), 'events'] = \"Normal\"\n",
    "##max_gust_speed_mph have missing values and precipitation_inches have non-numeric values \n",
    "weather = weather.drop(['max_gust_speed_mph','precipitation_inches'],1)\n",
    "weather.isnull().sum()"
   ]
  },
  {
   "cell_type": "markdown",
   "metadata": {},
   "source": [
    "### Outliers"
   ]
  },
  {
   "cell_type": "code",
   "execution_count": 10,
   "metadata": {},
   "outputs": [],
   "source": [
    "## Issue 1 : Trip duration have outlier at a station \n",
    "## Solution : Discard the outlier \n"
   ]
  },
  {
   "cell_type": "markdown",
   "metadata": {},
   "source": [
    "### Transformations"
   ]
  },
  {
   "cell_type": "code",
   "execution_count": 11,
   "metadata": {},
   "outputs": [
    {
     "name": "stdout",
     "output_type": "stream",
     "text": [
      "id                     int64\n",
      "duration               int64\n",
      "start_date            object\n",
      "start_station_name    object\n",
      "start_station_id       int64\n",
      "end_date              object\n",
      "end_station_name      object\n",
      "end_station_id         int64\n",
      "bike_id                int64\n",
      "subscription_type     object\n",
      "zip_code              object\n",
      "dtype: object\n"
     ]
    }
   ],
   "source": [
    "## Create a column for Day in Trip\n",
    "print(trip.dtypes)\n",
    "## Only SF data\n",
    "stationsinSF = station['id'][station['city'] == 'San Francisco'].to_numpy()\n",
    "trip = trip[(trip.start_station_id.isin(stationsinSF))]\n",
    "trip['start_date_u'] =  pd.to_datetime(trip['start_date'], format='%m/%d/%Y %H:%M')\n",
    "weekDays = (\"Monday\",\"Tuesday\",\"Wednesday\",\"Thursday\",\"Friday\",\"Saturday\",\"Sunday\")\n",
    "trip['weekday'] =  trip['start_date_u'].dt.dayofweek\n",
    "#trip['weekday_Actual'] =  weekDays[trip['weekday']]\n",
    "trip['is_weekday'] = (trip['weekday']<5).astype(int)"
   ]
  },
  {
   "cell_type": "code",
   "execution_count": 12,
   "metadata": {},
   "outputs": [
    {
     "name": "stdout",
     "output_type": "stream",
     "text": [
      "date                               object\n",
      "max_temperature_f                 float64\n",
      "mean_temperature_f                float64\n",
      "min_temperature_f                 float64\n",
      "max_dew_point_f                   float64\n",
      "mean_dew_point_f                  float64\n",
      "min_dew_point_f                   float64\n",
      "max_humidity                      float64\n",
      "mean_humidity                     float64\n",
      "min_humidity                      float64\n",
      "max_sea_level_pressure_inches     float64\n",
      "mean_sea_level_pressure_inches    float64\n",
      "min_sea_level_pressure_inches     float64\n",
      "max_visibility_miles              float64\n",
      "mean_visibility_miles             float64\n",
      "min_visibility_miles              float64\n",
      "max_wind_Speed_mph                float64\n",
      "mean_wind_speed_mph               float64\n",
      "cloud_cover                       float64\n",
      "events                             object\n",
      "wind_dir_degrees                  float64\n",
      "zip_code                            int64\n",
      "dtype: object\n",
      "(733, 23)\n"
     ]
    },
    {
     "data": {
      "text/html": [
       "<div>\n",
       "<style scoped>\n",
       "    .dataframe tbody tr th:only-of-type {\n",
       "        vertical-align: middle;\n",
       "    }\n",
       "\n",
       "    .dataframe tbody tr th {\n",
       "        vertical-align: top;\n",
       "    }\n",
       "\n",
       "    .dataframe thead th {\n",
       "        text-align: right;\n",
       "    }\n",
       "</style>\n",
       "<table border=\"1\" class=\"dataframe\">\n",
       "  <thead>\n",
       "    <tr style=\"text-align: right;\">\n",
       "      <th></th>\n",
       "      <th>date</th>\n",
       "      <th>max_temperature_f</th>\n",
       "      <th>mean_temperature_f</th>\n",
       "      <th>min_temperature_f</th>\n",
       "      <th>max_dew_point_f</th>\n",
       "      <th>mean_dew_point_f</th>\n",
       "      <th>min_dew_point_f</th>\n",
       "      <th>max_humidity</th>\n",
       "      <th>mean_humidity</th>\n",
       "      <th>min_humidity</th>\n",
       "      <th>...</th>\n",
       "      <th>mean_visibility_miles</th>\n",
       "      <th>min_visibility_miles</th>\n",
       "      <th>max_wind_Speed_mph</th>\n",
       "      <th>mean_wind_speed_mph</th>\n",
       "      <th>cloud_cover</th>\n",
       "      <th>events</th>\n",
       "      <th>wind_dir_degrees</th>\n",
       "      <th>zip_code</th>\n",
       "      <th>date_u</th>\n",
       "      <th>daily_trips</th>\n",
       "    </tr>\n",
       "  </thead>\n",
       "  <tbody>\n",
       "    <tr>\n",
       "      <th>0</th>\n",
       "      <td>8/29/2013</td>\n",
       "      <td>74.0</td>\n",
       "      <td>68.0</td>\n",
       "      <td>61.0</td>\n",
       "      <td>61.0</td>\n",
       "      <td>58.0</td>\n",
       "      <td>56.0</td>\n",
       "      <td>93.0</td>\n",
       "      <td>75.0</td>\n",
       "      <td>57.0</td>\n",
       "      <td>...</td>\n",
       "      <td>10.0</td>\n",
       "      <td>10.0</td>\n",
       "      <td>23.0</td>\n",
       "      <td>11.0</td>\n",
       "      <td>4.0</td>\n",
       "      <td>Normal</td>\n",
       "      <td>286.0</td>\n",
       "      <td>94107</td>\n",
       "      <td>2013-08-29</td>\n",
       "      <td>642</td>\n",
       "    </tr>\n",
       "    <tr>\n",
       "      <th>1</th>\n",
       "      <td>8/30/2013</td>\n",
       "      <td>78.0</td>\n",
       "      <td>69.0</td>\n",
       "      <td>60.0</td>\n",
       "      <td>61.0</td>\n",
       "      <td>58.0</td>\n",
       "      <td>56.0</td>\n",
       "      <td>90.0</td>\n",
       "      <td>70.0</td>\n",
       "      <td>50.0</td>\n",
       "      <td>...</td>\n",
       "      <td>10.0</td>\n",
       "      <td>7.0</td>\n",
       "      <td>29.0</td>\n",
       "      <td>13.0</td>\n",
       "      <td>2.0</td>\n",
       "      <td>Normal</td>\n",
       "      <td>291.0</td>\n",
       "      <td>94107</td>\n",
       "      <td>2013-08-30</td>\n",
       "      <td>606</td>\n",
       "    </tr>\n",
       "    <tr>\n",
       "      <th>2</th>\n",
       "      <td>8/31/2013</td>\n",
       "      <td>71.0</td>\n",
       "      <td>64.0</td>\n",
       "      <td>57.0</td>\n",
       "      <td>57.0</td>\n",
       "      <td>56.0</td>\n",
       "      <td>54.0</td>\n",
       "      <td>93.0</td>\n",
       "      <td>75.0</td>\n",
       "      <td>57.0</td>\n",
       "      <td>...</td>\n",
       "      <td>10.0</td>\n",
       "      <td>10.0</td>\n",
       "      <td>26.0</td>\n",
       "      <td>15.0</td>\n",
       "      <td>4.0</td>\n",
       "      <td>Normal</td>\n",
       "      <td>284.0</td>\n",
       "      <td>94107</td>\n",
       "      <td>2013-08-31</td>\n",
       "      <td>556</td>\n",
       "    </tr>\n",
       "    <tr>\n",
       "      <th>3</th>\n",
       "      <td>9/1/2013</td>\n",
       "      <td>74.0</td>\n",
       "      <td>66.0</td>\n",
       "      <td>58.0</td>\n",
       "      <td>60.0</td>\n",
       "      <td>56.0</td>\n",
       "      <td>53.0</td>\n",
       "      <td>87.0</td>\n",
       "      <td>68.0</td>\n",
       "      <td>49.0</td>\n",
       "      <td>...</td>\n",
       "      <td>10.0</td>\n",
       "      <td>10.0</td>\n",
       "      <td>25.0</td>\n",
       "      <td>13.0</td>\n",
       "      <td>4.0</td>\n",
       "      <td>Normal</td>\n",
       "      <td>284.0</td>\n",
       "      <td>94107</td>\n",
       "      <td>2013-09-01</td>\n",
       "      <td>600</td>\n",
       "    </tr>\n",
       "    <tr>\n",
       "      <th>4</th>\n",
       "      <td>9/2/2013</td>\n",
       "      <td>75.0</td>\n",
       "      <td>69.0</td>\n",
       "      <td>62.0</td>\n",
       "      <td>61.0</td>\n",
       "      <td>60.0</td>\n",
       "      <td>58.0</td>\n",
       "      <td>93.0</td>\n",
       "      <td>77.0</td>\n",
       "      <td>61.0</td>\n",
       "      <td>...</td>\n",
       "      <td>10.0</td>\n",
       "      <td>6.0</td>\n",
       "      <td>23.0</td>\n",
       "      <td>12.0</td>\n",
       "      <td>6.0</td>\n",
       "      <td>Normal</td>\n",
       "      <td>277.0</td>\n",
       "      <td>94107</td>\n",
       "      <td>2013-09-02</td>\n",
       "      <td>594</td>\n",
       "    </tr>\n",
       "  </tbody>\n",
       "</table>\n",
       "<p>5 rows × 24 columns</p>\n",
       "</div>"
      ],
      "text/plain": [
       "        date  max_temperature_f  mean_temperature_f  min_temperature_f  \\\n",
       "0  8/29/2013               74.0                68.0               61.0   \n",
       "1  8/30/2013               78.0                69.0               60.0   \n",
       "2  8/31/2013               71.0                64.0               57.0   \n",
       "3   9/1/2013               74.0                66.0               58.0   \n",
       "4   9/2/2013               75.0                69.0               62.0   \n",
       "\n",
       "   max_dew_point_f  mean_dew_point_f  min_dew_point_f  max_humidity  \\\n",
       "0             61.0              58.0             56.0          93.0   \n",
       "1             61.0              58.0             56.0          90.0   \n",
       "2             57.0              56.0             54.0          93.0   \n",
       "3             60.0              56.0             53.0          87.0   \n",
       "4             61.0              60.0             58.0          93.0   \n",
       "\n",
       "   mean_humidity  min_humidity  ...  mean_visibility_miles  \\\n",
       "0           75.0          57.0  ...                   10.0   \n",
       "1           70.0          50.0  ...                   10.0   \n",
       "2           75.0          57.0  ...                   10.0   \n",
       "3           68.0          49.0  ...                   10.0   \n",
       "4           77.0          61.0  ...                   10.0   \n",
       "\n",
       "   min_visibility_miles  max_wind_Speed_mph  mean_wind_speed_mph  cloud_cover  \\\n",
       "0                  10.0                23.0                 11.0          4.0   \n",
       "1                   7.0                29.0                 13.0          2.0   \n",
       "2                  10.0                26.0                 15.0          4.0   \n",
       "3                  10.0                25.0                 13.0          4.0   \n",
       "4                   6.0                23.0                 12.0          6.0   \n",
       "\n",
       "   events  wind_dir_degrees  zip_code     date_u daily_trips  \n",
       "0  Normal             286.0     94107 2013-08-29         642  \n",
       "1  Normal             291.0     94107 2013-08-30         606  \n",
       "2  Normal             284.0     94107 2013-08-31         556  \n",
       "3  Normal             284.0     94107 2013-09-01         600  \n",
       "4  Normal             277.0     94107 2013-09-02         594  \n",
       "\n",
       "[5 rows x 24 columns]"
      ]
     },
     "execution_count": 12,
     "metadata": {},
     "output_type": "execute_result"
    }
   ],
   "source": [
    "# Weather analysis, add daily users for checking the correlation (Macro Level Analysis Independent of Stations)\n",
    "print(weather.dtypes)\n",
    "## Zip Code for San Francisco is 94107\n",
    "weather = weather[(weather['zip_code'] == 94107)]\n",
    "weather['date_u'] =  pd.to_datetime(weather['date'], format='%m/%d/%Y')\n",
    "print(weather.shape)\n",
    "## Order of the data is already checked else data can be merged using a dataframe it is for minimal use of code\n",
    "weather['daily_trips'] = trip.groupby(trip.start_date_u.dt.date).size().to_numpy()\n",
    "weather.head()"
   ]
  },
  {
   "cell_type": "code",
   "execution_count": 13,
   "metadata": {},
   "outputs": [
    {
     "name": "stdout",
     "output_type": "stream",
     "text": [
      "Shape of feat_start_trip:  (237028, 6)\n"
     ]
    }
   ],
   "source": [
    "## For Prediction Model\n",
    "#trip.groupby(trip.start_date_u.dt.day,trip.start_date_u.dt.hour).size()\n",
    "trip['Start_Hour'] = trip['start_date_u'].dt.hour\n",
    "trip['date_f'] = trip['start_date_u'].dt.date\n",
    "\n",
    "#trip['Start_Day'] = trip['start_date_u'].dt.day\n",
    "#trip['Start_Month'] = trip['start_date_u'].dt.month\n",
    "#trip['Start_Year'] = trip['start_date_u'].dt.year\n",
    "feat_start_trip = trip.groupby(['Start_Hour','date_f','start_station_id','is_weekday',]).size().reset_index()\n",
    "feat_start_trip['date_u_merge'] = feat_start_trip['date_f'].astype(str)\n",
    "#duration_median = trip.groupby(['Start_Hour','Start_Day','Start_Month','Start_Year','start_station_id','is_weekday',])['duration'].median().reset_index()\n",
    "#feat_start_trip['duration_median'] = duration_median['duration']\n",
    "print('Shape of feat_start_trip: ',feat_start_trip.shape)\n"
   ]
  },
  {
   "cell_type": "code",
   "execution_count": 14,
   "metadata": {},
   "outputs": [
    {
     "data": {
      "text/html": [
       "<div>\n",
       "<style scoped>\n",
       "    .dataframe tbody tr th:only-of-type {\n",
       "        vertical-align: middle;\n",
       "    }\n",
       "\n",
       "    .dataframe tbody tr th {\n",
       "        vertical-align: top;\n",
       "    }\n",
       "\n",
       "    .dataframe thead th {\n",
       "        text-align: right;\n",
       "    }\n",
       "</style>\n",
       "<table border=\"1\" class=\"dataframe\">\n",
       "  <thead>\n",
       "    <tr style=\"text-align: right;\">\n",
       "      <th></th>\n",
       "      <th>Start_Hour</th>\n",
       "      <th>date_f</th>\n",
       "      <th>start_station_id</th>\n",
       "      <th>is_weekday</th>\n",
       "      <th>0</th>\n",
       "      <th>date_u_merge</th>\n",
       "      <th>date</th>\n",
       "      <th>max_temperature_f</th>\n",
       "      <th>mean_temperature_f</th>\n",
       "      <th>min_temperature_f</th>\n",
       "      <th>...</th>\n",
       "      <th>zip_code</th>\n",
       "      <th>date_u</th>\n",
       "      <th>daily_trips</th>\n",
       "      <th>Start_Day</th>\n",
       "      <th>Start_Month</th>\n",
       "      <th>Fog</th>\n",
       "      <th>Fog-Rain</th>\n",
       "      <th>Normal</th>\n",
       "      <th>Rain</th>\n",
       "      <th>Rain-Thunderstorm</th>\n",
       "    </tr>\n",
       "  </thead>\n",
       "  <tbody>\n",
       "    <tr>\n",
       "      <th>0</th>\n",
       "      <td>0</td>\n",
       "      <td>2013-08-30</td>\n",
       "      <td>47</td>\n",
       "      <td>1</td>\n",
       "      <td>1</td>\n",
       "      <td>2013-08-30</td>\n",
       "      <td>8/30/2013</td>\n",
       "      <td>78.0</td>\n",
       "      <td>69.0</td>\n",
       "      <td>60.0</td>\n",
       "      <td>...</td>\n",
       "      <td>94107</td>\n",
       "      <td>2013-08-30</td>\n",
       "      <td>606</td>\n",
       "      <td>30</td>\n",
       "      <td>8</td>\n",
       "      <td>0</td>\n",
       "      <td>0</td>\n",
       "      <td>1</td>\n",
       "      <td>0</td>\n",
       "      <td>0</td>\n",
       "    </tr>\n",
       "    <tr>\n",
       "      <th>1</th>\n",
       "      <td>0</td>\n",
       "      <td>2013-08-31</td>\n",
       "      <td>45</td>\n",
       "      <td>0</td>\n",
       "      <td>1</td>\n",
       "      <td>2013-08-31</td>\n",
       "      <td>8/31/2013</td>\n",
       "      <td>71.0</td>\n",
       "      <td>64.0</td>\n",
       "      <td>57.0</td>\n",
       "      <td>...</td>\n",
       "      <td>94107</td>\n",
       "      <td>2013-08-31</td>\n",
       "      <td>556</td>\n",
       "      <td>31</td>\n",
       "      <td>8</td>\n",
       "      <td>0</td>\n",
       "      <td>0</td>\n",
       "      <td>1</td>\n",
       "      <td>0</td>\n",
       "      <td>0</td>\n",
       "    </tr>\n",
       "    <tr>\n",
       "      <th>2</th>\n",
       "      <td>0</td>\n",
       "      <td>2013-08-31</td>\n",
       "      <td>76</td>\n",
       "      <td>0</td>\n",
       "      <td>2</td>\n",
       "      <td>2013-08-31</td>\n",
       "      <td>8/31/2013</td>\n",
       "      <td>71.0</td>\n",
       "      <td>64.0</td>\n",
       "      <td>57.0</td>\n",
       "      <td>...</td>\n",
       "      <td>94107</td>\n",
       "      <td>2013-08-31</td>\n",
       "      <td>556</td>\n",
       "      <td>31</td>\n",
       "      <td>8</td>\n",
       "      <td>0</td>\n",
       "      <td>0</td>\n",
       "      <td>1</td>\n",
       "      <td>0</td>\n",
       "      <td>0</td>\n",
       "    </tr>\n",
       "    <tr>\n",
       "      <th>3</th>\n",
       "      <td>0</td>\n",
       "      <td>2013-09-01</td>\n",
       "      <td>50</td>\n",
       "      <td>0</td>\n",
       "      <td>1</td>\n",
       "      <td>2013-09-01</td>\n",
       "      <td>9/1/2013</td>\n",
       "      <td>74.0</td>\n",
       "      <td>66.0</td>\n",
       "      <td>58.0</td>\n",
       "      <td>...</td>\n",
       "      <td>94107</td>\n",
       "      <td>2013-09-01</td>\n",
       "      <td>600</td>\n",
       "      <td>1</td>\n",
       "      <td>9</td>\n",
       "      <td>0</td>\n",
       "      <td>0</td>\n",
       "      <td>1</td>\n",
       "      <td>0</td>\n",
       "      <td>0</td>\n",
       "    </tr>\n",
       "    <tr>\n",
       "      <th>4</th>\n",
       "      <td>0</td>\n",
       "      <td>2013-09-01</td>\n",
       "      <td>56</td>\n",
       "      <td>0</td>\n",
       "      <td>2</td>\n",
       "      <td>2013-09-01</td>\n",
       "      <td>9/1/2013</td>\n",
       "      <td>74.0</td>\n",
       "      <td>66.0</td>\n",
       "      <td>58.0</td>\n",
       "      <td>...</td>\n",
       "      <td>94107</td>\n",
       "      <td>2013-09-01</td>\n",
       "      <td>600</td>\n",
       "      <td>1</td>\n",
       "      <td>9</td>\n",
       "      <td>0</td>\n",
       "      <td>0</td>\n",
       "      <td>1</td>\n",
       "      <td>0</td>\n",
       "      <td>0</td>\n",
       "    </tr>\n",
       "  </tbody>\n",
       "</table>\n",
       "<p>5 rows × 37 columns</p>\n",
       "</div>"
      ],
      "text/plain": [
       "   Start_Hour      date_f  start_station_id  is_weekday  0 date_u_merge  \\\n",
       "0           0  2013-08-30                47           1  1   2013-08-30   \n",
       "1           0  2013-08-31                45           0  1   2013-08-31   \n",
       "2           0  2013-08-31                76           0  2   2013-08-31   \n",
       "3           0  2013-09-01                50           0  1   2013-09-01   \n",
       "4           0  2013-09-01                56           0  2   2013-09-01   \n",
       "\n",
       "        date  max_temperature_f  mean_temperature_f  min_temperature_f  ...  \\\n",
       "0  8/30/2013               78.0                69.0               60.0  ...   \n",
       "1  8/31/2013               71.0                64.0               57.0  ...   \n",
       "2  8/31/2013               71.0                64.0               57.0  ...   \n",
       "3   9/1/2013               74.0                66.0               58.0  ...   \n",
       "4   9/1/2013               74.0                66.0               58.0  ...   \n",
       "\n",
       "   zip_code     date_u  daily_trips  Start_Day  Start_Month  Fog  Fog-Rain  \\\n",
       "0     94107 2013-08-30          606         30            8    0         0   \n",
       "1     94107 2013-08-31          556         31            8    0         0   \n",
       "2     94107 2013-08-31          556         31            8    0         0   \n",
       "3     94107 2013-09-01          600          1            9    0         0   \n",
       "4     94107 2013-09-01          600          1            9    0         0   \n",
       "\n",
       "   Normal  Rain  Rain-Thunderstorm  \n",
       "0       1     0                  0  \n",
       "1       1     0                  0  \n",
       "2       1     0                  0  \n",
       "3       1     0                  0  \n",
       "4       1     0                  0  \n",
       "\n",
       "[5 rows x 37 columns]"
      ]
     },
     "execution_count": 14,
     "metadata": {},
     "output_type": "execute_result"
    }
   ],
   "source": [
    "##Combining weather Data\n",
    "weather['date_u_merge'] = weather['date_u'].astype(str)\n",
    "##Merged on Date\n",
    "feat_start_trip_new = pd.merge(feat_start_trip,weather,how='left')\n",
    "\n",
    "feat_start_trip_new['Start_Day'] = feat_start_trip_new['date_u'].dt.day\n",
    "feat_start_trip_new['Start_Month'] = feat_start_trip_new['date_u'].dt.month\n",
    "## Hot Encoding Events\n",
    "events = pd.get_dummies(feat_start_trip_new.events)\n",
    "feat_start_trip_new = feat_start_trip_new.merge(events, left_index = True, right_index = True)\n",
    "feat_start_trip_new.head()"
   ]
  },
  {
   "cell_type": "markdown",
   "metadata": {},
   "source": [
    "## EDA"
   ]
  },
  {
   "cell_type": "markdown",
   "metadata": {},
   "source": [
    "### For Usage in WeekDay and Weekend (Select 1 for WeekDay, 0 for Weekend)"
   ]
  },
  {
   "cell_type": "code",
   "execution_count": 15,
   "metadata": {
    "scrolled": false
   },
   "outputs": [
    {
     "data": {
      "application/vnd.jupyter.widget-view+json": {
       "model_id": "1b8e460565064d459920c61f6c032d8e",
       "version_major": 2,
       "version_minor": 0
      },
      "text/plain": [
       "interactive(children=(SelectMultiple(description='WeekDay :', index=(0,), options=(1, 0), value=(1,)), Output(…"
      ]
     },
     "metadata": {},
     "output_type": "display_data"
    }
   ],
   "source": [
    "is_weekday = [1,0]\n",
    "def update_trips(is_weekday):\n",
    "    tripsdata = []\n",
    "    #Layout Definition for Slacked Graph(TimeSeries)\n",
    "    tripsLayout = go.Layout(\n",
    "        title = 'All Trips',\n",
    "        xaxis = dict(\n",
    "            title = 'Station ID',\n",
    "            #dtick = 2\n",
    "        ),\n",
    "        xaxis_type='category',\n",
    "        yaxis = dict(\n",
    "            title = 'Total Trips',\n",
    "            #rangemode = 'tozero',\n",
    "\n",
    "        ),\n",
    "    )\n",
    "    for A in is_weekday:\n",
    "        ## Start here\n",
    "        trace = dict(\n",
    "            type = 'bar',\n",
    "            x=np.sort(trip['start_station_id'][(trip['is_weekday'] == A)].unique()),\n",
    "            y=trip[(trip['is_weekday'] == A)].groupby(['start_station_id']).size(),\n",
    "            #hoverinfo='y',\n",
    "            #mode = 'markers',\n",
    "            text=trip[(trip['is_weekday'] == A)].groupby(['start_station_id']).size(),\n",
    "            textposition='auto',\n",
    "            \n",
    "            #mode='lines',\n",
    "            #line=dict(width=0.5,shape = 'spline',color=my_color[i]),\n",
    "            #stackgroup='one',\n",
    "            name = 'Mon - Friday ' + str(A)\n",
    "            \n",
    "        )        \n",
    "        tripsdata.append(trace)\n",
    "\n",
    "    timeseriesfig = dict(data=tripsdata,layout = tripsLayout)\n",
    "    py.offline.iplot(timeseriesfig)\n",
    "is_weekday = widget.SelectMultiple(options = is_weekday,value = (1,), description = 'WeekDay :',disabled = False)\n",
    "widget.interactive(update_trips,is_weekday = is_weekday)\n"
   ]
  },
  {
   "cell_type": "markdown",
   "metadata": {},
   "source": [
    "## For Weekday daily usage"
   ]
  },
  {
   "cell_type": "code",
   "execution_count": 16,
   "metadata": {},
   "outputs": [
    {
     "data": {
      "application/vnd.jupyter.widget-view+json": {
       "model_id": "26cd3262404643808b3ce15de90fe281",
       "version_major": 2,
       "version_minor": 0
      },
      "text/plain": [
       "interactive(children=(SelectMultiple(description='Hour :', index=(7, 8), options=(0, 1, 2, 3, 4, 5, 6, 7, 8, 9…"
      ]
     },
     "metadata": {},
     "output_type": "display_data"
    }
   ],
   "source": [
    "is_weekday = range(0,24)\n",
    "def update_trips(is_weekday):\n",
    "    tripsdata = []\n",
    "    #Layout Definition for Slacked Graph(TimeSeries)\n",
    "    tripsLayout = go.Layout(\n",
    "        title = 'Trips During the Weekday',\n",
    "        xaxis = dict(\n",
    "            title = 'Station ID',\n",
    "            #dtick = 2\n",
    "        ),\n",
    "        xaxis_type='category',\n",
    "        yaxis = dict(\n",
    "            title = 'Total Trips',\n",
    "            #rangemode = 'tozero',\n",
    "\n",
    "        ),\n",
    "    )\n",
    "    for A in is_weekday:\n",
    "        ## Start here\n",
    "        trace = dict(\n",
    "            type = 'bar',\n",
    "            x=np.sort(trip['start_station_id'][(trip['is_weekday'] == 1) & (trip['start_date_u'].dt.hour == A)].unique()),\n",
    "            y=trip[(trip['is_weekday'] == 1 ) & (trip['start_date_u'].dt.hour == A)].groupby(['start_station_id']).size(),\n",
    "            #hoverinfo='y',\n",
    "            #mode = 'markers',\n",
    "            text=trip[(trip['is_weekday'] == 1) & (trip['start_date_u'].dt.hour == A)].groupby(['start_station_id']).size(),\n",
    "            textposition='auto',\n",
    "            name=\"Hour\" + str(A),\n",
    "            #mode='lines',\n",
    "            #line=dict(width=0.5,shape = 'spline',color=my_color[i]),\n",
    "            #stackgroup='one',\n",
    "            #name = DeathCauses[i]\n",
    "            \n",
    "        )        \n",
    "        tripsdata.append(trace)\n",
    "\n",
    "    timeseriesfig = dict(data=tripsdata,layout = tripsLayout)\n",
    "    py.offline.iplot(timeseriesfig)\n",
    "is_weekday = widget.SelectMultiple(options = is_weekday,value = (7,8,), description = 'Hour :',disabled = False)\n",
    "widget.interactive(update_trips,is_weekday = is_weekday)\n"
   ]
  },
  {
   "cell_type": "markdown",
   "metadata": {},
   "source": [
    "## For Weekends Usage"
   ]
  },
  {
   "cell_type": "code",
   "execution_count": 17,
   "metadata": {
    "scrolled": true
   },
   "outputs": [
    {
     "data": {
      "application/vnd.jupyter.widget-view+json": {
       "model_id": "a1c2963de1d0449d9711ce7658d997ec",
       "version_major": 2,
       "version_minor": 0
      },
      "text/plain": [
       "interactive(children=(SelectMultiple(description='Hour :', index=(14,), options=(0, 1, 2, 3, 4, 5, 6, 7, 8, 9,…"
      ]
     },
     "metadata": {},
     "output_type": "display_data"
    }
   ],
   "source": [
    "is_weekday = range(0,24)\n",
    "def update_trips(is_weekday):\n",
    "    tripsdata = []\n",
    "    #Layout Definition for Slacked Graph(TimeSeries)\n",
    "    tripsLayout = go.Layout(\n",
    "        title = 'Trips During the Weekends',\n",
    "        xaxis = dict(\n",
    "            title = 'Station ID',\n",
    "            #dtick = 2\n",
    "        ),\n",
    "        xaxis_type='category',\n",
    "        yaxis = dict(\n",
    "            title = 'Total Trips',\n",
    "            #rangemode = 'tozero',\n",
    "\n",
    "        ),\n",
    "    )\n",
    "    for A in is_weekday:\n",
    "        ## Start here\n",
    "        trace = dict(\n",
    "            type = 'bar',\n",
    "            x=np.sort(trip['start_station_id'][(trip['is_weekday'] == 0) & (trip['start_date_u'].dt.hour == A)].unique()),\n",
    "            y=trip[(trip['is_weekday'] == 0 ) & (trip['start_date_u'].dt.hour == A)].groupby(['start_station_id']).size(),\n",
    "            #hoverinfo='y',\n",
    "            #mode = 'markers',\n",
    "            text=trip[(trip['is_weekday'] == 0) & (trip['start_date_u'].dt.hour == A)].groupby(['start_station_id']).size(),\n",
    "            textposition='auto',\n",
    "            name=\"Hour\" + str(A),\n",
    "            #mode='lines',\n",
    "            #line=dict(width=0.5,shape = 'spline',color=my_color[i]),\n",
    "            #stackgroup='one',\n",
    "            #name = DeathCauses[i]\n",
    "            \n",
    "        )        \n",
    "        tripsdata.append(trace)\n",
    "\n",
    "    timeseriesfig = dict(data=tripsdata,layout = tripsLayout)\n",
    "    py.offline.iplot(timeseriesfig)\n",
    "is_weekday = widget.SelectMultiple(options = is_weekday,value = (14,), description = 'Hour :',disabled = False)\n",
    "widget.interactive(update_trips,is_weekday = is_weekday)\n"
   ]
  },
  {
   "cell_type": "markdown",
   "metadata": {},
   "source": [
    "After this analysis we can say Bikes are quites oftenly used in Weekdays.\n",
    "\n",
    "In Weekdays, 69 and 70 thats stations near train stations are most busy in morning rush hours hence bikes from near by stations can be placed on these stations, while evening rush is quite distributed but this approach can be used for all stations at all time.\n",
    "\n",
    "In Weekends, stations 50 and 60 are busy at noon time (14 and 16 hours) as they are close to bridge and bay hence bikes can be allocated at these sites."
   ]
  },
  {
   "cell_type": "markdown",
   "metadata": {},
   "source": [
    "## Weather Analysis"
   ]
  },
  {
   "cell_type": "code",
   "execution_count": 18,
   "metadata": {},
   "outputs": [
    {
     "data": {
      "text/plain": [
       "<matplotlib.axes._subplots.AxesSubplot at 0x1a1d6c9cf8>"
      ]
     },
     "execution_count": 18,
     "metadata": {},
     "output_type": "execute_result"
    },
    {
     "data": {
      "image/png": "[encoded data removed]",
      "text/plain": [
       "<Figure size 792x648 with 2 Axes>"
      ]
     },
     "metadata": {
      "needs_background": "light"
     },
     "output_type": "display_data"
    }
   ],
   "source": [
    "#weather.corr()\n",
    "### Finding the Correlation between the Input at single Modal\n",
    "\n",
    "feat = weather[['max_temperature_f','min_temperature_f','max_dew_point_f','min_dew_point_f','max_humidity','min_humidity','max_visibility_miles','min_visibility_miles','max_wind_Speed_mph','mean_wind_speed_mph','cloud_cover','wind_dir_degrees','daily_trips']]\n",
    "#feat = weather\n",
    "corr = feat.corr(method='pearson')\n",
    "# Generate a mask for the upper triangle\n",
    "mask = np.zeros_like(corr, dtype=np.bool)\n",
    "mask[np.triu_indices_from(mask)] = True\n",
    "\n",
    "# Set up the matplotlib figure\n",
    "f, ax = plt.subplots(figsize=(11, 9))\n",
    "\n",
    "# Generate a custom diverging colormap\n",
    "cmap = sns.diverging_palette(220, 10, as_cmap=True)\n",
    "\n",
    "# Draw the heatmap with the mask and correct aspect ratio\n",
    "sns.heatmap(corr, mask=mask,\n",
    "            square=True, linewidths=.5,  cbar_kws={\"shrink\": .5},annot=True)\n",
    "          "
   ]
  },
  {
   "cell_type": "markdown",
   "metadata": {},
   "source": [
    "It is visible from the above the Temprature have the highest statistical impact on Trips,\n",
    "\n",
    "Moreover, from the tableau sheet, Exploring SF Trips it was visible that the Feb and Dec are the least favoured day for bike and also have minimal temprature of whole year, similary Oct is most favoured and have maximum temprature of whole year.\n",
    "\n",
    "Hence it can be said as the operator can be relaxed in minimum temprature months and highly active in maximum temprature months."
   ]
  },
  {
   "cell_type": "markdown",
   "metadata": {},
   "source": [
    "## Prediction Model and Evaluation"
   ]
  },
  {
   "cell_type": "markdown",
   "metadata": {},
   "source": [
    "For the dynamic reallocation, a prediction model can be used to predict number of start trip, end trip, bikes available and Dock available.\n",
    "Hence which can be used for reallocation by `Bikes_Required = Start_Trip - Bike Available - End Trip)` ,\n",
    "and `if Bikes_Required > Docks_Available then Allocate_Bikes = Docks_Available - End_Trip else Bike_Required`\n",
    "\n",
    "Note : `Bikes_Required = Start Trips on Station` \n"
   ]
  },
  {
   "cell_type": "code",
   "execution_count": 19,
   "metadata": {},
   "outputs": [
    {
     "data": {
      "text/plain": [
       "Index([                    'Start_Hour',                         'date_f',\n",
       "                     'start_station_id',                     'is_weekday',\n",
       "                                      0,                   'date_u_merge',\n",
       "                                 'date',              'max_temperature_f',\n",
       "                   'mean_temperature_f',              'min_temperature_f',\n",
       "                      'max_dew_point_f',               'mean_dew_point_f',\n",
       "                      'min_dew_point_f',                   'max_humidity',\n",
       "                        'mean_humidity',                   'min_humidity',\n",
       "        'max_sea_level_pressure_inches', 'mean_sea_level_pressure_inches',\n",
       "        'min_sea_level_pressure_inches',           'max_visibility_miles',\n",
       "                'mean_visibility_miles',           'min_visibility_miles',\n",
       "                   'max_wind_Speed_mph',            'mean_wind_speed_mph',\n",
       "                          'cloud_cover',                         'events',\n",
       "                     'wind_dir_degrees',                       'zip_code',\n",
       "                               'date_u',                    'daily_trips',\n",
       "                            'Start_Day',                    'Start_Month',\n",
       "                                  'Fog',                       'Fog-Rain',\n",
       "                               'Normal',                           'Rain',\n",
       "                    'Rain-Thunderstorm'],\n",
       "      dtype='object')"
      ]
     },
     "execution_count": 19,
     "metadata": {},
     "output_type": "execute_result"
    }
   ],
   "source": [
    "feat_start_trip_new.columns"
   ]
  },
  {
   "cell_type": "code",
   "execution_count": 20,
   "metadata": {},
   "outputs": [
    {
     "name": "stdout",
     "output_type": "stream",
     "text": [
      "(237028, 20)\n",
      "(237028,)\n"
     ]
    }
   ],
   "source": [
    "feat = ['Start_Hour','start_station_id','is_weekday','max_temperature_f','min_temperature_f','max_dew_point_f','min_dew_point_f','max_humidity','min_humidity','max_visibility_miles','min_visibility_miles','max_wind_Speed_mph','mean_wind_speed_mph','cloud_cover','wind_dir_degrees','Fog','Rain','Fog-Rain','Normal','Rain-Thunderstorm']\n",
    "X = feat_start_trip_new[feat]\n",
    "Y = feat_start_trip_new[0]\n",
    "print(X.shape)\n",
    "print(Y.shape)\n",
    "X_train, X_test, y_train, y_test = train_test_split(X, Y, test_size=0.2, random_state = 2)\n"
   ]
  },
  {
   "cell_type": "markdown",
   "metadata": {},
   "source": [
    "###  Essential Functions for Evaluation and Presentation"
   ]
  },
  {
   "cell_type": "code",
   "execution_count": 21,
   "metadata": {},
   "outputs": [],
   "source": [
    "def cal_rmse(y_pred, y_true):\n",
    "    \"\"\"\n",
    "        calculate root mean square error based on predicted and true result.\n",
    "    \"\"\"\n",
    "    return np.sqrt(np.sum((y_pred - y_true)**2 / len(y_pred)))\n",
    "\n",
    "def visualize_pred(y_pred, y_test, model_name ):\n",
    "    \"\"\"\n",
    "        Visualize predicted result for randomly selected samples\n",
    "    \"\"\"\n",
    "    vis_lst = [i for i in range(len(y_pred))]\n",
    "    np.random.shuffle(vis_lst)\n",
    "    y_test = y_test.reset_index()\n",
    "\n",
    "    fig, ax = plt.subplots(figsize=(12,3))\n",
    "    ax.set(xlabel='Samples', ylabel='Trips')\n",
    "    plt.plot([range(len(y_pred[vis_lst[:100]])), range(len(y_test.loc[vis_lst[:100], 0]))], [y_pred[vis_lst[:100]], y_test.loc[vis_lst[:100], 0]], 'k-')\n",
    "    ax.scatter(range(len(y_pred[vis_lst[:100]])),y_pred[vis_lst[:100]], label='Predicted Values', color = 'darkorange')\n",
    "    ax.scatter(range(len(y_test.loc[vis_lst[:100], 0])),y_test.loc[vis_lst[:100], 0], label='Ground Truth', color = 'navy')\n",
    "    plt.legend(loc=\"upper right\")\n",
    "    plt.show()\n",
    "    \n",
    "##visualize_feature(feat,clf.feature_importances_)  \n",
    "def f_importances(coef, names):\n",
    "    imp = coef\n",
    "    imp,names = zip(*sorted(zip(imp,names)))\n",
    "    plt.barh(range(len(names)), imp, align='center')\n",
    "    plt.yticks(range(len(names)), names)\n",
    "    plt.title('Feature Importance')\n",
    "    plt.show()\n",
    "    \n",
    "\n",
    "def plot_fold_performance(rmse):\n",
    "    \"\"\"\n",
    "        Plot root mean square error based on model validation \n",
    "    \"\"\"\n",
    "    print('Standard Deviation = ',np.std(rmse))\n",
    "    fig, ax = plt.subplots(figsize=(12,3))\n",
    "    ax.set(xlabel='Iterations', ylabel='RMS Error',\n",
    "    title='Performance of the 4 Folds Validation')\n",
    "    x=range(len(rmse))\n",
    "    y=np.around(rmse,decimals= 2)\n",
    "    ax.plot(x,y)\n",
    "    for i,j in zip(x,y):\n",
    "        ax.annotate(str(j),xy=(i,j))\n",
    "    \n",
    "    plt.show()"
   ]
  },
  {
   "cell_type": "code",
   "execution_count": 22,
   "metadata": {},
   "outputs": [
    {
     "name": "stdout",
     "output_type": "stream",
     "text": [
      "RMSE =  1.6748212573010075\n"
     ]
    },
    {
     "data": {
      "image/png": "[encoded data removed]",
      "text/plain": [
       "<Figure size 864x216 with 1 Axes>"
      ]
     },
     "metadata": {
      "needs_background": "light"
     },
     "output_type": "display_data"
    },
    {
     "data": {
      "image/png": "[encoded data removed]",
      "text/plain": [
       "<Figure size 432x288 with 1 Axes>"
      ]
     },
     "metadata": {
      "needs_background": "light"
     },
     "output_type": "display_data"
    }
   ],
   "source": [
    "opt_params = {'max_depth' : 10, 'n_estimators' : 100, 'random_state' : 2}\n",
    "regr = RandomForestRegressor(**opt_params)\n",
    "regr.fit(X_train, y_train)\n",
    "\n",
    "y_pred = regr.predict(X_test)\n",
    "print('RMSE = ',cal_rmse(y_pred, y_test))\n",
    "visualize_pred(y_pred, y_test,'Random Forest')\n",
    "f_importances(regr.feature_importances_,feat)"
   ]
  },
  {
   "cell_type": "code",
   "execution_count": 23,
   "metadata": {},
   "outputs": [
    {
     "name": "stdout",
     "output_type": "stream",
     "text": [
      "RMSE =  1.6655682953823314\n",
      "RMSE =  1.7282025630841362\n",
      "RMSE =  1.6997328382261239\n",
      "RMSE =  1.6808021292600612\n",
      "RMSE =  1.7129858847925186\n",
      "RMSE =  1.6895933080948202\n",
      "RMSE =  1.6858521073338288\n",
      "RMSE =  1.6916868455958294\n",
      "RMSE =  1.6921398423275356\n",
      "RMSE =  1.68548476160793\n",
      "RMSE =  1.6973774517321603\n",
      "RMSE =  1.696383808649321\n",
      "Standard Deviation =  0.015081738\n"
     ]
    },
    {
     "data": {
      "image/png": "[encoded data removed]",
      "text/plain": [
       "<Figure size 864x216 with 1 Axes>"
      ]
     },
     "metadata": {
      "needs_background": "light"
     },
     "output_type": "display_data"
    }
   ],
   "source": [
    "kf = RepeatedKFold(n_splits=4, n_repeats=3, random_state=None) \n",
    "opt_params = {'max_depth' : 10, 'n_estimators' : 100, 'random_state' : 2}\n",
    "regr = RandomForestRegressor(**opt_params)\n",
    "temp_rmse = array.array('f')\n",
    "for train_index, test_index in kf.split(X):\n",
    "    #print(\"TRAIN:\", train_index, \"TEST:\", test_index)\n",
    "    X_train = X.iloc[train_index]\n",
    "    X_test = X.iloc[test_index]\n",
    "    y_train, y_test = Y[train_index], Y[test_index]\n",
    "\n",
    "    regr.fit(X_train, y_train)\n",
    "    y_pred = regr.predict(X_test)\n",
    "    rmse = cal_rmse(y_pred, y_test)\n",
    "    temp_rmse.append(rmse)\n",
    "    print('RMSE = ',rmse)\n",
    "plot_fold_performance(temp_rmse)"
   ]
  },
  {
   "cell_type": "markdown",
   "metadata": {},
   "source": [
    "### Results looks good after model evaluation but their are still scope. \n",
    "### Inference\n",
    "1. As per current model, StationId, week day, Start day, temprature highly important for prediction of trips.\n",
    "2. Cross Validation gives results where SD is very low hence we can said prediction is stable."
   ]
  },
  {
   "cell_type": "markdown",
   "metadata": {},
   "source": [
    "Other models can be used for efficiency like XG Boost or ANN, and can be optimized using different approaches.\n",
    "\n",
    "Model for other metrices can be created using same approach and finally a way optimized way can be approached to the Operator on real time.\n",
    "Moreover, status file is being skipped but have good use for prediction for other metrices like dock available and bike available, which is not covered in this work."
   ]
  },
  {
   "cell_type": "code",
   "execution_count": null,
   "metadata": {},
   "outputs": [],
   "source": []
  }
 ],
 "metadata": {
  "kernelspec": {
   "display_name": "Python 3",
   "language": "python",
   "name": "python3"
  },
  "language_info": {
   "codemirror_mode": {
    "name": "ipython",
    "version": 3
   },
   "file_extension": ".py",
   "mimetype": "text/x-python",
   "name": "python",
   "nbconvert_exporter": "python",
   "pygments_lexer": "ipython3",
   "version": "3.7.3"
  }
 },
 "nbformat": 4,
 "nbformat_minor": 2
}
